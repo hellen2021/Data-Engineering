{
 "cells": [
  {
   "cell_type": "code",
   "execution_count": 14,
   "metadata": {},
   "outputs": [],
   "source": [
    "# import libraries\n",
    "import yfinance as yf\n",
    "import pandas as pd\n",
    "import matplotlib.pyplot as plt\n",
    "import seaborn as sns"
   ]
  },
  {
   "cell_type": "code",
   "execution_count": 15,
   "metadata": {},
   "outputs": [],
   "source": [
    "# function to fetch data\n",
    "def get_stock_data(tickers, start_date, end_date):\n",
    "    stock_data = {}\n",
    "    for ticker in tickers:\n",
    "        stock_data[ticker] = yf.download(ticker, start=start_date, end=end_date)\n",
    "    return stock_data"
   ]
  },
  {
   "cell_type": "code",
   "execution_count": 16,
   "metadata": {},
   "outputs": [],
   "source": [
    "# function to clean data\n",
    "def clean_stock_data(data):\n",
    "    for ticker, df in data.items():\n",
    "        df.fillna(method='ffill', inplace=True)\n",
    "        df['Date'] = pd.to_datetime(df.index)\n",
    "\n",
    "    return data"
   ]
  },
  {
   "cell_type": "code",
   "execution_count": 19,
   "metadata": {},
   "outputs": [
    {
     "name": "stdout",
     "output_type": "stream",
     "text": [
      "[*********************100%***********************]  1 of 1 completed\n",
      "[*********************100%***********************]  1 of 1 completed\n",
      "[*********************100%***********************]  1 of 1 completed\n",
      "[*********************100%***********************]  1 of 1 completed\n",
      "\n",
      "Ticker: AAPL\n",
      "                  Open        High         Low       Close   Adj Close  \\\n",
      "Date                                                                     \n",
      "2021-01-04  133.520004  133.610001  126.760002  129.410004  127.503647   \n",
      "2021-01-05  128.889999  131.740005  128.429993  131.009995  129.080078   \n",
      "2021-01-06  127.720001  131.050003  126.379997  126.599998  124.735039   \n",
      "2021-01-07  128.360001  131.630005  127.860001  130.919998  128.991394   \n",
      "2021-01-08  132.429993  132.630005  130.229996  132.050003  130.104752   \n",
      "\n",
      "               Volume  \n",
      "Date                   \n",
      "2021-01-04  143301900  \n",
      "2021-01-05   97664900  \n",
      "2021-01-06  155088000  \n",
      "2021-01-07  109578200  \n",
      "2021-01-08  105158200  \n",
      "\n",
      "Ticker: MSFT\n",
      "                  Open        High         Low       Close   Adj Close  \\\n",
      "Date                                                                     \n",
      "2021-01-04  222.529999  223.000000  214.809998  217.690002  212.876663   \n",
      "2021-01-05  217.259995  218.520004  215.699997  217.899994  213.082001   \n",
      "2021-01-06  212.169998  216.490005  211.940002  212.250000  207.556915   \n",
      "2021-01-07  214.039993  219.339996  213.710007  218.289993  213.463394   \n",
      "2021-01-08  218.679993  220.580002  217.029999  219.619995  214.763962   \n",
      "\n",
      "              Volume  \n",
      "Date                  \n",
      "2021-01-04  37130100  \n",
      "2021-01-05  23823000  \n",
      "2021-01-06  35930700  \n",
      "2021-01-07  27694500  \n",
      "2021-01-08  22956200  \n",
      "\n",
      "Ticker: GOOGL\n",
      "                 Open       High        Low      Close  Adj Close    Volume\n",
      "Date                                                                       \n",
      "2021-01-04  88.000000  88.124496  85.357002  86.306503  86.306503  37324000\n",
      "2021-01-05  86.254501  87.341499  85.845001  87.002502  87.002502  20360000\n",
      "2021-01-06  85.013000  87.198502  84.805000  86.143997  86.143997  46588000\n",
      "2021-01-07  86.337997  88.890999  86.337997  88.717003  88.717003  41936000\n",
      "2021-01-08  88.858002  89.968002  88.060997  89.891502  89.891502  35484000\n",
      "\n",
      "Ticker: AMZN\n",
      "                  Open        High         Low       Close   Adj Close  \\\n",
      "Date                                                                     \n",
      "2021-01-04  163.500000  163.600006  157.201004  159.331497  159.331497   \n",
      "2021-01-05  158.300507  161.169006  158.253006  160.925507  160.925507   \n",
      "2021-01-06  157.324005  159.875504  156.557999  156.919006  156.919006   \n",
      "2021-01-07  157.850006  160.427002  157.750000  158.108002  158.108002   \n",
      "2021-01-08  159.000000  159.531998  157.110001  159.134995  159.134995   \n",
      "\n",
      "              Volume  \n",
      "Date                  \n",
      "2021-01-04  88228000  \n",
      "2021-01-05  53110000  \n",
      "2021-01-06  87896000  \n",
      "2021-01-07  70290000  \n",
      "2021-01-08  70754000  \n"
     ]
    }
   ],
   "source": [
    "def main():\n",
    "    # Define tickers and date range as a single string with tickers separated by spaces or commas\n",
    "    tickers = 'AAPL MSFT GOOGL AMZN'\n",
    "    start_date = '2021-01-01'\n",
    "    end_date = '2023-01-01'\n",
    "\n",
    "\n",
    "# Convert the tickers string to a list\n",
    "    tickers_list = tickers.split()\n",
    "\n",
    "# Fetch data\n",
    "    data = get_stock_data(tickers_list, start_date, end_date)\n",
    "\n",
    "    tickers = yf.Ticker(tickers)\n",
    "\n",
    "        # Print cleaned data for each ticker\n",
    "    for ticker in tickers_list:\n",
    "        print(f\"\\nTicker: {ticker}\")\n",
    "        print(data[ticker].head())\n",
    "\n",
    "if __name__ == '__main__':\n",
    "    main()"
   ]
  },
  {
   "cell_type": "code",
   "execution_count": null,
   "metadata": {},
   "outputs": [],
   "source": []
  }
 ],
 "metadata": {
  "kernelspec": {
   "display_name": "Python 3",
   "language": "python",
   "name": "python3"
  },
  "language_info": {
   "codemirror_mode": {
    "name": "ipython",
    "version": 3
   },
   "file_extension": ".py",
   "mimetype": "text/x-python",
   "name": "python",
   "nbconvert_exporter": "python",
   "pygments_lexer": "ipython3",
   "version": "3.8.10"
  },
  "orig_nbformat": 4
 },
 "nbformat": 4,
 "nbformat_minor": 2
}
