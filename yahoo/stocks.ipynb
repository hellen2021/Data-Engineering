{
 "cells": [
  {
   "cell_type": "code",
   "execution_count": 1,
   "metadata": {},
   "outputs": [],
   "source": [
    "# import libraries\n",
    "import yfinance as yf\n",
    "import pandas as pd\n",
    "import matplotlib.pyplot as plt\n",
    "import seaborn as sns"
   ]
  },
  {
   "cell_type": "code",
   "execution_count": 2,
   "metadata": {},
   "outputs": [],
   "source": [
    "# function to fetch data\n",
    "def get_stock_data(tickers, start_date, end_date):\n",
    "    stock_data = {}\n",
    "    for ticker in tickers:\n",
    "        stock_data[ticker] = yf.download(ticker, start=start_date, end=end_date)\n",
    "    return stock_data"
   ]
  },
  {
   "cell_type": "code",
   "execution_count": 3,
   "metadata": {},
   "outputs": [],
   "source": [
    "# function to clean data\n",
    "def clean_stock_data(data):\n",
    "    for ticker, df in data.items():\n",
    "        df.fillna(method='ffill', inplace=True)\n",
    "        df['Date'] = pd.to_datetime(df.index)\n",
    "\n",
    "    return data"
   ]
  },
  {
   "cell_type": "code",
   "execution_count": 4,
   "metadata": {},
   "outputs": [
    {
     "name": "stdout",
     "output_type": "stream",
     "text": [
      "[*********************100%***********************]  1 of 1 completed\n",
      "[*********************100%***********************]  1 of 1 completed\n",
      "[*********************100%***********************]  1 of 1 completed\n",
      "[*********************100%***********************]  1 of 1 completed\n",
      "\n",
      "Ticker: AAPL\n",
      "                 Open       High        Low      Close  Adj Close     Volume\n",
      "Date                                                                        \n",
      "2020-01-02  74.059998  75.150002  73.797501  75.087502  73.347923  135480400\n",
      "2020-01-03  74.287498  75.144997  74.125000  74.357498  72.634850  146322800\n",
      "2020-01-06  73.447502  74.989998  73.187500  74.949997  73.213608  118387200\n",
      "2020-01-07  74.959999  75.224998  74.370003  74.597504  72.869308  108872000\n",
      "2020-01-08  74.290001  76.110001  74.290001  75.797501  74.041489  132079200\n",
      "\n",
      "Ticker: MSFT\n",
      "                  Open        High         Low       Close   Adj Close  \\\n",
      "Date                                                                     \n",
      "2020-01-02  158.779999  160.729996  158.330002  160.619995  155.422043   \n",
      "2020-01-03  158.320007  159.949997  158.059998  158.619995  153.486740   \n",
      "2020-01-06  157.080002  159.100006  156.509995  159.029999  153.883499   \n",
      "2020-01-07  159.320007  159.669998  157.320007  157.580002  152.480438   \n",
      "2020-01-08  158.929993  160.800003  157.949997  160.089996  154.909210   \n",
      "\n",
      "              Volume  \n",
      "Date                  \n",
      "2020-01-02  22622100  \n",
      "2020-01-03  21116200  \n",
      "2020-01-06  20813700  \n",
      "2020-01-07  21634100  \n",
      "2020-01-08  27746500  \n",
      "\n",
      "Ticker: GOOGL\n",
      "                 Open       High        Low      Close  Adj Close    Volume\n",
      "Date                                                                       \n",
      "2020-01-02  67.420502  68.433998  67.324501  68.433998  68.433998  27278000\n",
      "2020-01-03  67.400002  68.687500  67.365997  68.075996  68.075996  23408000\n",
      "2020-01-06  67.581497  69.916000  67.550003  69.890503  69.890503  46768000\n",
      "2020-01-07  70.023003  70.175003  69.578003  69.755501  69.755501  34330000\n",
      "2020-01-08  69.740997  70.592499  69.631500  70.251999  70.251999  35314000\n",
      "\n",
      "Ticker: AMZN\n",
      "                 Open       High        Low      Close  Adj Close    Volume\n",
      "Date                                                                       \n",
      "2020-01-02  93.750000  94.900497  93.207497  94.900497  94.900497  80580000\n",
      "2020-01-03  93.224998  94.309998  93.224998  93.748497  93.748497  75288000\n",
      "2020-01-06  93.000000  95.184502  93.000000  95.143997  95.143997  81236000\n",
      "2020-01-07  95.224998  95.694504  94.601997  95.343002  95.343002  80898000\n",
      "2020-01-08  94.902000  95.550003  94.321999  94.598503  94.598503  70160000\n"
     ]
    }
   ],
   "source": [
    "def main():\n",
    "    # Define tickers and date range as a single string with tickers separated by spaces or commas\n",
    "    tickers = 'AAPL MSFT GOOGL AMZN'\n",
    "    start_date = '2020-01-01'\n",
    "    end_date = '2023-01-01'\n",
    "\n",
    "\n",
    "# Convert the tickers string to a list\n",
    "    tickers_list = tickers.split()\n",
    "\n",
    "# Fetch data\n",
    "    data = get_stock_data(tickers_list, start_date, end_date)\n",
    "\n",
    "    tickers = yf.Ticker(tickers)\n",
    "\n",
    "        # Print cleaned data for each ticker\n",
    "    for ticker in tickers_list:\n",
    "        print(f\"\\nTicker: {ticker}\")\n",
    "        print(data[ticker].head())\n",
    "\n",
    "if __name__ == '__main__':\n",
    "    main()"
   ]
  }
 ],
 "metadata": {
  "kernelspec": {
   "display_name": "Python 3",
   "language": "python",
   "name": "python3"
  },
  "language_info": {
   "codemirror_mode": {
    "name": "ipython",
    "version": 3
   },
   "file_extension": ".py",
   "mimetype": "text/x-python",
   "name": "python",
   "nbconvert_exporter": "python",
   "pygments_lexer": "ipython3",
   "version": "3.8.10"
  },
  "orig_nbformat": 4
 },
 "nbformat": 4,
 "nbformat_minor": 2
}
